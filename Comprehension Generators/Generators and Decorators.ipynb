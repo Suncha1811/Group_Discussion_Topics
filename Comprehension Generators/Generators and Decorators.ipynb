{
 "cells": [
  {
   "cell_type": "markdown",
   "id": "8d18803a",
   "metadata": {},
   "source": [
    "# 1.Generators"
   ]
  },
  {
   "cell_type": "markdown",
   "id": "9f668a17",
   "metadata": {},
   "source": [
    "# 2. Iterators"
   ]
  },
  {
   "cell_type": "code",
   "execution_count": 29,
   "id": "7f2fecc1",
   "metadata": {},
   "outputs": [
    {
     "name": "stdout",
     "output_type": "stream",
     "text": [
      "apple\n",
      "banana\n"
     ]
    }
   ],
   "source": [
    "# WAP to print iterators \n",
    "tup = (\"apple\", \"banana\", \"cherry\")\n",
    "#for item tup:\n",
    "#    print(item)\n",
    "myit = iter(tup)\n",
    "#print(myit)\n",
    "print(next(myit))\n",
    "#print(next(myit))\n",
    "print(next(myit))\n",
    "#print(next(myit))"
   ]
  },
  {
   "cell_type": "code",
   "execution_count": null,
   "id": "6499bab8",
   "metadata": {},
   "outputs": [],
   "source": []
  },
  {
   "cell_type": "code",
   "execution_count": null,
   "id": "dedc7f63",
   "metadata": {},
   "outputs": [],
   "source": []
  },
  {
   "cell_type": "code",
   "execution_count": null,
   "id": "d1d14bc5",
   "metadata": {},
   "outputs": [],
   "source": []
  },
  {
   "cell_type": "code",
   "execution_count": null,
   "id": "4b7a6ae9",
   "metadata": {},
   "outputs": [],
   "source": []
  },
  {
   "cell_type": "code",
   "execution_count": null,
   "id": "25d7ebc3",
   "metadata": {},
   "outputs": [],
   "source": []
  },
  {
   "cell_type": "code",
   "execution_count": null,
   "id": "7efe0a1d",
   "metadata": {},
   "outputs": [],
   "source": []
  },
  {
   "cell_type": "code",
   "execution_count": null,
   "id": "45b2a182",
   "metadata": {},
   "outputs": [],
   "source": []
  },
  {
   "cell_type": "code",
   "execution_count": 2,
   "id": "450491da",
   "metadata": {},
   "outputs": [
    {
     "name": "stdout",
     "output_type": "stream",
     "text": [
      "<generator object fun_prnt at 0x000002AD0D7C3660>\n"
     ]
    },
    {
     "data": {
      "text/plain": [
       "(2, 'Python')"
      ]
     },
     "execution_count": 2,
     "metadata": {},
     "output_type": "execute_result"
    }
   ],
   "source": []
  },
  {
   "cell_type": "markdown",
   "id": "0445a102",
   "metadata": {},
   "source": [
    "# Generators"
   ]
  },
  {
   "cell_type": "markdown",
   "id": "1e4fde4e",
   "metadata": {},
   "source": [
    "def fun_prnt(dict):\n",
    "    for x,y in dict.items():\n",
    "        yield x,y\n",
    "a={1:\"Hi\",2:\"Python\",3:\"Language\"}\n",
    "b=fun_prnt(a)\n",
    "#print(b)\n",
    "#next(b)\n",
    "next(b)"
   ]
  },
  {
   "cell_type": "code",
   "execution_count": 31,
   "id": "4cd887fd",
   "metadata": {},
   "outputs": [
    {
     "data": {
      "text/plain": [
       "(3, 'Language')"
      ]
     },
     "execution_count": 31,
     "metadata": {},
     "output_type": "execute_result"
    }
   ],
   "source": [
    "def fun_prnt(dict):\n",
    "    for x,y in dict.items():\n",
    "        yield x,y\n",
    "a={1:\"Hi\",2:\"Python\",3:\"Language\"}\n",
    "b=fun_prnt(a)\n",
    "#print(b)\n",
    "next(b)\n",
    "next(b)\n",
    "next(b)"
   ]
  },
  {
   "cell_type": "code",
   "execution_count": null,
   "id": "92a836ab",
   "metadata": {},
   "outputs": [],
   "source": []
  },
  {
   "cell_type": "code",
   "execution_count": null,
   "id": "5f775a55",
   "metadata": {},
   "outputs": [],
   "source": []
  },
  {
   "cell_type": "code",
   "execution_count": null,
   "id": "b189d245",
   "metadata": {},
   "outputs": [],
   "source": []
  },
  {
   "cell_type": "code",
   "execution_count": null,
   "id": "5b20d1d4",
   "metadata": {},
   "outputs": [],
   "source": []
  },
  {
   "cell_type": "code",
   "execution_count": null,
   "id": "a623f771",
   "metadata": {},
   "outputs": [],
   "source": []
  },
  {
   "cell_type": "code",
   "execution_count": null,
   "id": "3ae42798",
   "metadata": {},
   "outputs": [],
   "source": []
  },
  {
   "cell_type": "code",
   "execution_count": null,
   "id": "9d9d49f6",
   "metadata": {},
   "outputs": [],
   "source": []
  },
  {
   "cell_type": "code",
   "execution_count": null,
   "id": "69d12fa8",
   "metadata": {},
   "outputs": [],
   "source": []
  },
  {
   "cell_type": "code",
   "execution_count": null,
   "id": "e884ec44",
   "metadata": {},
   "outputs": [],
   "source": []
  },
  {
   "cell_type": "code",
   "execution_count": null,
   "id": "8000ce53",
   "metadata": {},
   "outputs": [],
   "source": []
  },
  {
   "cell_type": "code",
   "execution_count": 1,
   "id": "91fc81b1",
   "metadata": {},
   "outputs": [
    {
     "name": "stdout",
     "output_type": "stream",
     "text": [
      "apple\n",
      "banana\n"
     ]
    }
   ],
   "source": []
  },
  {
   "cell_type": "markdown",
   "id": "c8071e60",
   "metadata": {},
   "source": [
    "# Decorators"
   ]
  },
  {
   "cell_type": "code",
   "execution_count": null,
   "id": "b315f7e3",
   "metadata": {},
   "outputs": [],
   "source": [
    "#  Decorators is design pattern in python allows user to add new functionality to existing object without modifying structure\n",
    "# Decorators usually callled before defination of function you want to decorate"
   ]
  },
  {
   "cell_type": "code",
   "execution_count": null,
   "id": "fd67436a",
   "metadata": {},
   "outputs": [],
   "source": [
    "#  ---Functions in Python are first class citizens. This means that they support operations such as being passed as an argument, \n",
    "#  returned from a function, modified, and assigned to a variable.\n",
    "# - In python everythinh is treated as object\n",
    "# - Function can be passed as argument as well\n",
    "# - it is called first class object\n",
    "#- Function can be also declared in another function which is called inner function"
   ]
  },
  {
   "cell_type": "code",
   "execution_count": 33,
   "id": "0918053e",
   "metadata": {},
   "outputs": [
    {
     "data": {
      "text/plain": [
       "6"
      ]
     },
     "execution_count": 33,
     "metadata": {},
     "output_type": "execute_result"
    }
   ],
   "source": [
    "# Function assign to variable\n",
    "def plus_one(number):\n",
    "    return number + 1\n",
    "\n",
    "add_one = plus_one\n",
    "\n",
    "add_one(5)\n"
   ]
  },
  {
   "cell_type": "code",
   "execution_count": null,
   "id": "ba2ca248",
   "metadata": {},
   "outputs": [],
   "source": []
  },
  {
   "cell_type": "code",
   "execution_count": null,
   "id": "4a613a87",
   "metadata": {},
   "outputs": [],
   "source": []
  },
  {
   "cell_type": "code",
   "execution_count": null,
   "id": "6b00e748",
   "metadata": {},
   "outputs": [],
   "source": []
  },
  {
   "cell_type": "code",
   "execution_count": 9,
   "id": "c519bd98",
   "metadata": {},
   "outputs": [
    {
     "name": "stdout",
     "output_type": "stream",
     "text": [
      "Hello  Dear All\n",
      "Dear All , how you doing ?\n"
     ]
    }
   ],
   "source": [
    "# First class object\n",
    "\n",
    "def fun1(name):\n",
    "    return f\"Hello  {name}\"\n",
    "\n",
    "def fun2(name):\n",
    "    return f\"{name} , how you doing ?\"\n",
    "\n",
    "def fun3(fun4):\n",
    "    return fun4(\"Dear All\")\n",
    "\n",
    "print(fun3(fun1))\n",
    "print(fun3(fun2))"
   ]
  },
  {
   "cell_type": "code",
   "execution_count": null,
   "id": "58c6b104",
   "metadata": {},
   "outputs": [],
   "source": []
  },
  {
   "cell_type": "code",
   "execution_count": 39,
   "id": "c12fd328",
   "metadata": {},
   "outputs": [
    {
     "name": "stdout",
     "output_type": "stream",
     "text": [
      "THus is base function\n",
      "This is first child function\n",
      "This is second child function\n"
     ]
    }
   ],
   "source": [
    "# Inner Function\n",
    "def fun_base():\n",
    "    print(\"THus is base function\")\n",
    "    def fun_child1():\n",
    "        print(\"This is first child function\")\n",
    "    def fun_child2():\n",
    "        print(\"This is second child function\")\n",
    "    fun_child1()\n",
    "    fun_child2()\n",
    "fun_base()"
   ]
  },
  {
   "cell_type": "code",
   "execution_count": 41,
   "id": "50690afe",
   "metadata": {},
   "outputs": [
    {
     "data": {
      "text/plain": [
       "1"
      ]
     },
     "execution_count": 41,
     "metadata": {},
     "output_type": "execute_result"
    }
   ],
   "source": [
    "def sum(a,b):\n",
    "    def sub():\n",
    "        return 1\n",
    "    return sub\n",
    "x=sum(5,10)\n",
    "x()    "
   ]
  },
  {
   "cell_type": "code",
   "execution_count": null,
   "id": "e8c866c8",
   "metadata": {},
   "outputs": [],
   "source": []
  },
  {
   "cell_type": "code",
   "execution_count": null,
   "id": "b2f7ccb8",
   "metadata": {},
   "outputs": [],
   "source": []
  },
  {
   "cell_type": "code",
   "execution_count": null,
   "id": "cb8b906c",
   "metadata": {},
   "outputs": [],
   "source": []
  },
  {
   "cell_type": "code",
   "execution_count": 8,
   "id": "f58c5130",
   "metadata": {},
   "outputs": [
    {
     "name": "stdout",
     "output_type": "stream",
     "text": [
      "<class 'function'>\n",
      "<class 'function'>\n",
      "Inside1\n",
      "Inside2\n"
     ]
    }
   ],
   "source": [
    "def Fun1(n):\n",
    "    def fun_c():\n",
    "        return \"Inside1\"\n",
    "    def fun_b():\n",
    "        return \"Inside2\"\n",
    "    if n==1:\n",
    "        return fun_c\n",
    "    else:\n",
    "        return fun_b\n",
    "f_val=Fun1(1)\n",
    "#print(type(f_val))\n",
    "s_val=Fun1(2)\n",
    "#print(type(s_val))\n",
    "print(f_val())\n",
    "print(s_val())\n"
   ]
  },
  {
   "cell_type": "code",
   "execution_count": 36,
   "id": "afb70154",
   "metadata": {},
   "outputs": [
    {
     "name": "stdout",
     "output_type": "stream",
     "text": [
      "Hello\n",
      "Second Function\n",
      "Welcome to python\n"
     ]
    }
   ],
   "source": []
  },
  {
   "cell_type": "code",
   "execution_count": null,
   "id": "6424b8d4",
   "metadata": {},
   "outputs": [],
   "source": []
  },
  {
   "cell_type": "code",
   "execution_count": null,
   "id": "be1f7978",
   "metadata": {},
   "outputs": [],
   "source": []
  },
  {
   "cell_type": "code",
   "execution_count": 37,
   "id": "51d2d865",
   "metadata": {},
   "outputs": [
    {
     "name": "stdout",
     "output_type": "stream",
     "text": [
      "Hello\n",
      "Second Function\n",
      "Welcome to python\n"
     ]
    }
   ],
   "source": [
    "def function1(function2):\n",
    "    def wrapper():\n",
    "        print(\"Hello\")\n",
    "        function2()\n",
    "        print(\"Welcome to python\")\n",
    "    return wrapper\n",
    "\n",
    "def function2():\n",
    "    print(\"Second Function\")\n",
    "function2=function1(function2) \n",
    "function2()"
   ]
  },
  {
   "cell_type": "code",
   "execution_count": null,
   "id": "c8fd5347",
   "metadata": {},
   "outputs": [],
   "source": []
  },
  {
   "cell_type": "code",
   "execution_count": null,
   "id": "122a9015",
   "metadata": {},
   "outputs": [],
   "source": [
    " # Basic decorator Function"
   ]
  },
  {
   "cell_type": "code",
   "execution_count": 10,
   "id": "4aea45ac",
   "metadata": {},
   "outputs": [
    {
     "name": "stdout",
     "output_type": "stream",
     "text": [
      "Hello\n",
      "Second Function\n",
      "Welcome to python\n"
     ]
    }
   ],
   "source": [
    "def function1(function):\n",
    "    def wrapper():\n",
    "        print(\"Hello\")\n",
    "        function()\n",
    "        print(\"Welcome to python\")\n",
    "    return wrapper\n",
    "@ function1\n",
    "def function2():\n",
    "    print(\"Second Function\")\n",
    "function2()"
   ]
  },
  {
   "cell_type": "code",
   "execution_count": null,
   "id": "e2930795",
   "metadata": {},
   "outputs": [],
   "source": [
    "# Decorator with Argument"
   ]
  },
  {
   "cell_type": "code",
   "execution_count": 13,
   "id": "3e09ba39",
   "metadata": {},
   "outputs": [
    {
     "name": "stdout",
     "output_type": "stream",
     "text": [
      "Hello\n",
      "Komal\n",
      "Welcome to python\n"
     ]
    }
   ],
   "source": [
    "def function1(function):\n",
    "    def wrapper(*args,**kwargs):\n",
    "        print(\"Hello\")\n",
    "        function(*args,**kwargs)\n",
    "        print(\"Welcome to python\")\n",
    "    return wrapper\n",
    "@ function1\n",
    "def function2(name):\n",
    "    print(f\"{name}\")\n",
    "function2(\"Komal\")"
   ]
  },
  {
   "cell_type": "code",
   "execution_count": null,
   "id": "e2c1ecb7",
   "metadata": {},
   "outputs": [],
   "source": []
  },
  {
   "cell_type": "code",
   "execution_count": null,
   "id": "5ad0d817",
   "metadata": {},
   "outputs": [],
   "source": []
  },
  {
   "cell_type": "code",
   "execution_count": null,
   "id": "0c05d035",
   "metadata": {},
   "outputs": [],
   "source": []
  },
  {
   "cell_type": "code",
   "execution_count": null,
   "id": "81934c0c",
   "metadata": {},
   "outputs": [],
   "source": []
  },
  {
   "cell_type": "code",
   "execution_count": null,
   "id": "d3e21aaa",
   "metadata": {},
   "outputs": [],
   "source": []
  }
 ],
 "metadata": {
  "kernelspec": {
   "display_name": "Python 3",
   "language": "python",
   "name": "python3"
  },
  "language_info": {
   "codemirror_mode": {
    "name": "ipython",
    "version": 3
   },
   "file_extension": ".py",
   "mimetype": "text/x-python",
   "name": "python",
   "nbconvert_exporter": "python",
   "pygments_lexer": "ipython3",
   "version": "3.9.2"
  }
 },
 "nbformat": 4,
 "nbformat_minor": 5
}
