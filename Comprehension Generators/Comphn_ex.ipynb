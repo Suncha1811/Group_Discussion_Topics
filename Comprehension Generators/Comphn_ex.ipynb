{
 "cells": [
  {
   "cell_type": "code",
   "execution_count": 8,
   "id": "c0445fbf",
   "metadata": {},
   "outputs": [
    {
     "name": "stdout",
     "output_type": "stream",
     "text": [
      "For Reversing String using slicing [::-1]:-- gnirts sesrever si siht\n",
      "txt_ser\n"
     ]
    }
   ],
   "source": [
    "str_txt=\"this is reverses string\"\n",
    "res_txt=str_txt[::-1]\n",
    "print(\"For Reversing String using slicing [::-1]:--\",res_txt)\n",
    "res_txt=str_txt.split()\n",
    "str_txt=\"\".join(reversed(\"res_txt\"))\n",
    "print(str_txt)"
   ]
  },
  {
   "cell_type": "code",
   "execution_count": 5,
   "id": "ca29641d",
   "metadata": {},
   "outputs": [
    {
     "name": "stdout",
     "output_type": "stream",
     "text": [
      "Using built in function len():  22\n",
      "Counter({' ': 3, 'm': 3, 'r': 3, 'a': 2, 'p': 2, 'o': 2, 'i': 1, 'y': 1, 't': 1, 'h': 1, 'n': 1, 'g': 1, 'e': 1})\n"
     ]
    }
   ],
   "source": [
    "from collections import Counter\n",
    "str=\"i am python programmer\"\n",
    "print(\"Using built in function len(): \",len(str))\n",
    "strlen=Counter(str)\n",
    "print(strlen)"
   ]
  },
  {
   "cell_type": "code",
   "execution_count": 8,
   "id": "fa6fd8d5",
   "metadata": {},
   "outputs": [
    {
     "name": "stdout",
     "output_type": "stream",
     "text": [
      "[] False\n"
     ]
    }
   ],
   "source": []
  },
  {
   "cell_type": "markdown",
   "id": "c28145ef",
   "metadata": {},
   "source": [
    "# Comprehension :\n",
    "    Comprehension is nothing but generating new iterable object from existing one.\n",
    "1.List Comprehension \n",
    "2.Set Comprehension\n",
    "3.Dictionary Cmprehension\n",
    "4.Generator comprehension\n",
    "\n",
    "Syntax Of Comprehension:\n",
    "    new_iterable_obj = [expression for member in iterable if condition == True]"
   ]
  },
  {
   "cell_type": "markdown",
   "id": "53b8c42d",
   "metadata": {},
   "source": [
    "# 1. List Comprehension"
   ]
  },
  {
   "cell_type": "code",
   "execution_count": 5,
   "id": "b10f399a",
   "metadata": {},
   "outputs": [
    {
     "data": {
      "text/plain": [
       "[0, 1, 4, 9, 16, 25, 36, 49, 64, 81]"
      ]
     },
     "execution_count": 5,
     "metadata": {},
     "output_type": "execute_result"
    }
   ],
   "source": [
    "\n",
    "#  by using for loop & append method \n",
    "squares = []\n",
    "for i in range(10):\n",
    "    squares.append(i * i)\n",
    "squares"
   ]
  },
  {
   "cell_type": "code",
   "execution_count": 3,
   "id": "a67ee000",
   "metadata": {},
   "outputs": [
    {
     "data": {
      "text/plain": [
       "[0, 1, 4, 9, 16, 25, 36, 49, 64, 81]"
      ]
     },
     "execution_count": 3,
     "metadata": {},
     "output_type": "execute_result"
    }
   ],
   "source": [
    "# Using list comprehension\n",
    "squares = [i * i for i in range(10)]\n",
    "squares"
   ]
  },
  {
   "cell_type": "code",
   "execution_count": 7,
   "id": "a4f7f991",
   "metadata": {},
   "outputs": [
    {
     "data": {
      "text/plain": [
       "[1.1772000000000002, 25.4448, 62.467200000000005, 4.9248, 7.322400000000001]"
      ]
     },
     "execution_count": 7,
     "metadata": {},
     "output_type": "execute_result"
    }
   ],
   "source": [
    "# Using map function\n",
    "def get_price_with_tax(txn):\n",
    "    return txn * (1 + TAX_RATE)\n",
    "\n",
    "txns = [1.09, 23.56, 57.84, 4.56, 6.78]\n",
    "TAX_RATE = .08\n",
    "final_prices = map(get_price_with_tax, txns)# map(function,iterable)\n",
    "#final_prices=float(get_price_with_tax(txns)\n",
    "#print(type(final_prices))\n",
    "list(final_prices)\n",
    "\n",
    " ### Map return a map object"
   ]
  },
  {
   "cell_type": "code",
   "execution_count": null,
   "id": "0d74a1cb",
   "metadata": {},
   "outputs": [],
   "source": []
  },
  {
   "cell_type": "code",
   "execution_count": null,
   "id": "218c3413",
   "metadata": {},
   "outputs": [],
   "source": []
  },
  {
   "cell_type": "code",
   "execution_count": null,
   "id": "740b4454",
   "metadata": {},
   "outputs": [],
   "source": []
  },
  {
   "cell_type": "code",
   "execution_count": null,
   "id": "059713a8",
   "metadata": {},
   "outputs": [],
   "source": []
  },
  {
   "cell_type": "code",
   "execution_count": null,
   "id": "0bc4808e",
   "metadata": {},
   "outputs": [],
   "source": []
  },
  {
   "cell_type": "code",
   "execution_count": null,
   "id": "100bf585",
   "metadata": {},
   "outputs": [],
   "source": []
  },
  {
   "cell_type": "code",
   "execution_count": null,
   "id": "dc808a86",
   "metadata": {},
   "outputs": [],
   "source": [
    "\n",
    "txns = [1.09, 23.56, 57.84, 4.56, 6.78]\n",
    "TAX_RATE = .08\n",
    "def get_price_with_tax(txn):\n",
    "    return txn * (1 + TAX_RATE)\n",
    "final_prices = [get_price_with_tax(i) for i in txns]\n",
    "final_prices\n",
    "### Comprehension return a list"
   ]
  },
  {
   "cell_type": "markdown",
   "id": "a4f53784",
   "metadata": {},
   "source": [
    "# 2. Set Comprehension"
   ]
  },
  {
   "cell_type": "code",
   "execution_count": 6,
   "id": "427133f1",
   "metadata": {},
   "outputs": [
    {
     "data": {
      "text/plain": [
       "{'a', 'e', 'i', 'u'}"
      ]
     },
     "execution_count": 6,
     "metadata": {},
     "output_type": "execute_result"
    }
   ],
   "source": [
    "quote = \"life, uh, finds a way\"\n",
    "unique_vowels = {i for i in quote if i in 'aeiou'}\n",
    "unique_vowels\n"
   ]
  },
  {
   "cell_type": "code",
   "execution_count": 9,
   "id": "c524baae",
   "metadata": {},
   "outputs": [
    {
     "name": "stdout",
     "output_type": "stream",
     "text": [
      "Output Set using for loop: {2, 4, 6}\n"
     ]
    }
   ],
   "source": [
    "# Using loop for constructing output set\n",
    "input_list = [1, 2, 3, 4, 4, 5, 6, 6, 6, 7, 7]  \n",
    "output_set = set()  \n",
    "for var in input_list:\n",
    "    if var % 2 == 0:\n",
    "        output_set.add(var)\n",
    "print(\"Output Set using for loop:\", output_set)  "
   ]
  },
  {
   "cell_type": "code",
   "execution_count": 10,
   "id": "cacfcba6",
   "metadata": {},
   "outputs": [
    {
     "name": "stdout",
     "output_type": "stream",
     "text": [
      "Output Set using set comprehensions: {2, 4, 6}\n"
     ]
    }
   ],
   "source": [
    "# Using Set Comprehension\n",
    "input_list = [1, 2, 3, 4, 4, 5, 6, 6, 6, 7, 7]  \n",
    "set_using_comp = {var for var in input_list if var % 2 == 0}  \n",
    "print(\"Output Set using set comprehensions:\",set_using_comp)"
   ]
  },
  {
   "cell_type": "markdown",
   "id": "2be50898",
   "metadata": {},
   "source": [
    "# 3. Dictionary Comprehension"
   ]
  },
  {
   "cell_type": "code",
   "execution_count": 11,
   "id": "7537857f",
   "metadata": {},
   "outputs": [
    {
     "name": "stdout",
     "output_type": "stream",
     "text": [
      "Output Dictionary using for loop: {1: 1, 3: 27, 5: 125, 7: 343}\n"
     ]
    }
   ],
   "source": [
    "# Using loop for constructing output dictionary\n",
    "input_list = [1, 2, 3, 4, 5, 6, 7]  \n",
    "output_dict = {}\n",
    "for var in input_list:\n",
    "    if var % 2 != 0:\n",
    "        output_dict[var] = var**3  \n",
    "print(\"Output Dictionary using for loop:\",output_dict )"
   ]
  },
  {
   "cell_type": "code",
   "execution_count": 12,
   "id": "dbfb00a9",
   "metadata": {},
   "outputs": [
    {
     "name": "stdout",
     "output_type": "stream",
     "text": [
      "Output Dictionary using dictionary comprehensions: {1: 1, 3: 27, 5: 125, 7: 343}\n"
     ]
    }
   ],
   "source": [
    "input_list = [1,2,3,4,5,6,7]  \n",
    "dict_using_comp = {var:var ** 3 for var in input_list if var % 2 != 0}  \n",
    "print(\"Output Dictionary using dictionary comprehensions:\",dict_using_comp)"
   ]
  },
  {
   "cell_type": "code",
   "execution_count": 12,
   "id": "e7e487ee",
   "metadata": {},
   "outputs": [
    {
     "name": "stdout",
     "output_type": "stream",
     "text": [
      "Output Dictionary using for loop: {'Gujarat': 'Gandhinagar', 'Maharashtra': 'Mumbai', 'Rajasthan': 'Jaipur'}\n"
     ]
    }
   ],
   "source": [
    "# Using loop for constructing output dictionary\n",
    "state = ['Gujarat', 'Maharashtra', 'Rajasthan']\n",
    "capital = ['Gandhinagar', 'Mumbai', 'Jaipur']  \n",
    "output_dict = {}\n",
    "for (v, k) in zip(state, capital):\n",
    "    output_dict[v] = k\n",
    "print(\"Output Dictionary using for loop:\",output_dict)"
   ]
  },
  {
   "cell_type": "code",
   "execution_count": null,
   "id": "6f629eb6",
   "metadata": {},
   "outputs": [],
   "source": []
  },
  {
   "cell_type": "code",
   "execution_count": null,
   "id": "5057e5a7",
   "metadata": {},
   "outputs": [],
   "source": []
  },
  {
   "cell_type": "code",
   "execution_count": null,
   "id": "2ac12df7",
   "metadata": {},
   "outputs": [],
   "source": []
  },
  {
   "cell_type": "code",
   "execution_count": null,
   "id": "ca00237b",
   "metadata": {},
   "outputs": [],
   "source": [
    "for(i=0;i<5;i++)==i+1\n",
    "for i in list"
   ]
  },
  {
   "cell_type": "code",
   "execution_count": null,
   "id": "4c1bc3a6",
   "metadata": {},
   "outputs": [],
   "source": []
  },
  {
   "cell_type": "code",
   "execution_count": 14,
   "id": "6f48cf04",
   "metadata": {},
   "outputs": [
    {
     "name": "stdout",
     "output_type": "stream",
     "text": [
      "Output Dictionary using dictionary comprehensions: {'Gujarat': 'Gandhinagar', 'Maharashtra': 'Mumbai', 'Rajasthan': 'Jaipur'}\n"
     ]
    }
   ],
   "source": [
    "# Using Dictionary comprehensions\n",
    "# for constructing output dictionary  \n",
    "state = ['Gujarat', 'Maharashtra', 'Rajasthan']\n",
    "capital = ['Gandhinagar', 'Mumbai', 'Jaipur']  \n",
    "dict_using_comp = {key:value for (key, value) in zip(state, capital)}  \n",
    "print(\"Output Dictionary using dictionary comprehensions:\",dict_using_comp)"
   ]
  },
  {
   "cell_type": "markdown",
   "id": "f5b003a8",
   "metadata": {},
   "source": [
    "# 4. Generator Comprehension"
   ]
  },
  {
   "cell_type": "code",
   "execution_count": 18,
   "id": "0cb2b9f8",
   "metadata": {},
   "outputs": [
    {
     "name": "stdout",
     "output_type": "stream",
     "text": [
      "<class 'tuple'>\n",
      "<class 'generator'>\n",
      "Output values using generator comprehensions: 2 4 4 6 "
     ]
    }
   ],
   "source": [
    "input_list = (1, 2, 3, 4, 4, 5, 6, 7, 7)\n",
    "print(type(input_list))\n",
    "output_gen = (var for var in input_list if var % 2 == 0) \n",
    "print(type(output_gen))\n",
    "print(\"Output values using generator comprehensions:\", end = ' ')  \n",
    "for var in output_gen:\n",
    "    print(var, end = ' ')"
   ]
  },
  {
   "cell_type": "code",
   "execution_count": null,
   "id": "5e3d8fa6",
   "metadata": {},
   "outputs": [],
   "source": []
  },
  {
   "cell_type": "code",
   "execution_count": null,
   "id": "a603da09",
   "metadata": {},
   "outputs": [],
   "source": []
  },
  {
   "cell_type": "code",
   "execution_count": null,
   "id": "814d25e0",
   "metadata": {},
   "outputs": [],
   "source": []
  },
  {
   "cell_type": "code",
   "execution_count": null,
   "id": "05c36e97",
   "metadata": {},
   "outputs": [],
   "source": []
  },
  {
   "cell_type": "code",
   "execution_count": null,
   "id": "4bfee311",
   "metadata": {},
   "outputs": [],
   "source": []
  },
  {
   "cell_type": "code",
   "execution_count": null,
   "id": "048ef5bc",
   "metadata": {},
   "outputs": [],
   "source": []
  },
  {
   "cell_type": "code",
   "execution_count": null,
   "id": "e2e9a720",
   "metadata": {},
   "outputs": [],
   "source": []
  },
  {
   "cell_type": "code",
   "execution_count": null,
   "id": "08d5ebf4",
   "metadata": {},
   "outputs": [],
   "source": []
  },
  {
   "cell_type": "code",
   "execution_count": null,
   "id": "90076a81",
   "metadata": {},
   "outputs": [],
   "source": []
  },
  {
   "cell_type": "code",
   "execution_count": null,
   "id": "1df7a158",
   "metadata": {},
   "outputs": [],
   "source": []
  },
  {
   "cell_type": "code",
   "execution_count": null,
   "id": "828009bc",
   "metadata": {},
   "outputs": [],
   "source": []
  },
  {
   "cell_type": "code",
   "execution_count": null,
   "id": "b47abba9",
   "metadata": {},
   "outputs": [],
   "source": []
  },
  {
   "cell_type": "code",
   "execution_count": null,
   "id": "2db6eb5c",
   "metadata": {},
   "outputs": [],
   "source": []
  },
  {
   "cell_type": "code",
   "execution_count": null,
   "id": "b90c358c",
   "metadata": {},
   "outputs": [],
   "source": []
  },
  {
   "cell_type": "code",
   "execution_count": null,
   "id": "fe355c0f",
   "metadata": {},
   "outputs": [],
   "source": []
  },
  {
   "cell_type": "code",
   "execution_count": null,
   "id": "d163a47e",
   "metadata": {},
   "outputs": [],
   "source": []
  },
  {
   "cell_type": "code",
   "execution_count": null,
   "id": "9264dc8f",
   "metadata": {},
   "outputs": [],
   "source": []
  },
  {
   "cell_type": "code",
   "execution_count": null,
   "id": "b37e5342",
   "metadata": {},
   "outputs": [],
   "source": []
  }
 ],
 "metadata": {
  "kernelspec": {
   "display_name": "Python 3",
   "language": "python",
   "name": "python3"
  },
  "language_info": {
   "codemirror_mode": {
    "name": "ipython",
    "version": 3
   },
   "file_extension": ".py",
   "mimetype": "text/x-python",
   "name": "python",
   "nbconvert_exporter": "python",
   "pygments_lexer": "ipython3",
   "version": "3.9.2"
  }
 },
 "nbformat": 4,
 "nbformat_minor": 5
}
