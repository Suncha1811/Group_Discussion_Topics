{
 "cells": [
  {
   "cell_type": "markdown",
   "metadata": {},
   "source": [
    "###                                      ***   Object Oriented Programming   ***"
   ]
  },
  {
   "cell_type": "markdown",
   "metadata": {},
   "source": [
    "#### Object  oriented  programming  (OOP's)  is  a  programming  language  model.  It  is  a  way  of  computer  programming  using  the idea  of  \"object\"  to  represent  data  and  methods."
   ]
  },
  {
   "cell_type": "code",
   "execution_count": null,
   "metadata": {},
   "outputs": [],
   "source": []
  },
  {
   "cell_type": "markdown",
   "metadata": {},
   "source": [
    "### OOPs Concepts"
   ]
  },
  {
   "cell_type": "markdown",
   "metadata": {},
   "source": [
    "* Class\n",
    "\n",
    "* Object\n",
    "\n",
    "* Encapsulation\n",
    "\n",
    "* Inheritance\n",
    "\n",
    "* Abstraction\n",
    "\n",
    "* Polymorphism"
   ]
  },
  {
   "cell_type": "code",
   "execution_count": null,
   "metadata": {},
   "outputs": [],
   "source": []
  },
  {
   "cell_type": "code",
   "execution_count": null,
   "metadata": {},
   "outputs": [],
   "source": []
  },
  {
   "cell_type": "code",
   "execution_count": 9,
   "metadata": {},
   "outputs": [
    {
     "name": "stdout",
     "output_type": "stream",
     "text": [
      "Saurabh\n",
      "<__main__.Infosys object at 0x0000026E8748F5E0> <__main__.Infosys object at 0x0000026E8748F640>\n"
     ]
    }
   ],
   "source": [
    "# Basic Template\n",
    "\n",
    "class Infosys:\n",
    "    pass\n",
    "        \n",
    "employee1 = Infosys()\n",
    "employee2 = Infosys()\n",
    "\n",
    "employee1.fname = \"Suraj\"\n",
    "employee1.lname = \"Chahande\"\n",
    "employee1.designation = \"Front End\"\n",
    "employee1.salary = \"30000\"\n",
    "\n",
    "\n",
    "employee2.fname = \"Saurabh\"\n",
    "employee2.lname = \"Patil\"\n",
    "employee1.designation = \"Back End\"\n",
    "employee2.salary = \"40000\"\n",
    "\n",
    "\n",
    "print(employee2.fname)\n",
    "\n",
    "print(employee1,employee2)\n",
    "\n",
    "\n"
   ]
  },
  {
   "cell_type": "code",
   "execution_count": 35,
   "metadata": {},
   "outputs": [
    {
     "ename": "NameError",
     "evalue": "name '__init__' is not defined",
     "output_type": "error",
     "traceback": [
      "\u001b[1;31m---------------------------------------------------------------------------\u001b[0m",
      "\u001b[1;31mNameError\u001b[0m                                 Traceback (most recent call last)",
      "\u001b[1;32m<ipython-input-35-98a37c77820a>\u001b[0m in \u001b[0;36m<module>\u001b[1;34m\u001b[0m\n\u001b[0;32m     10\u001b[0m \u001b[1;33m\u001b[0m\u001b[0m\n\u001b[0;32m     11\u001b[0m \u001b[0memployee1\u001b[0m \u001b[1;33m=\u001b[0m \u001b[0mInfosys\u001b[0m\u001b[1;33m(\u001b[0m\u001b[1;34m\"Suraj\"\u001b[0m\u001b[1;33m,\u001b[0m\u001b[1;34m\"Chahande\"\u001b[0m\u001b[1;33m,\u001b[0m\u001b[1;34m\"Front End\"\u001b[0m\u001b[1;33m,\u001b[0m\u001b[1;36m30000\u001b[0m\u001b[1;33m)\u001b[0m\u001b[1;33m\u001b[0m\u001b[1;33m\u001b[0m\u001b[0m\n\u001b[1;32m---> 12\u001b[1;33m \u001b[0mprint\u001b[0m\u001b[1;33m(\u001b[0m\u001b[0mdir\u001b[0m\u001b[1;33m(\u001b[0m\u001b[0m__init__\u001b[0m\u001b[1;33m)\u001b[0m\u001b[1;33m)\u001b[0m\u001b[1;33m\u001b[0m\u001b[1;33m\u001b[0m\u001b[0m\n\u001b[0m\u001b[0;32m     13\u001b[0m \u001b[0mprint\u001b[0m\u001b[1;33m(\u001b[0m\u001b[0memployee1\u001b[0m\u001b[1;33m)\u001b[0m\u001b[1;33m\u001b[0m\u001b[1;33m\u001b[0m\u001b[0m\n\u001b[0;32m     14\u001b[0m \u001b[0mprint\u001b[0m\u001b[1;33m(\u001b[0m\u001b[0memployee1\u001b[0m\u001b[1;33m.\u001b[0m\u001b[0mfname\u001b[0m\u001b[1;33m)\u001b[0m\u001b[1;33m\u001b[0m\u001b[1;33m\u001b[0m\u001b[0m\n",
      "\u001b[1;31mNameError\u001b[0m: name '__init__' is not defined"
     ]
    }
   ],
   "source": [
    "# Advanced Template\n",
    "\n",
    "class Infosys:\n",
    "    def __init__(self,fname,lname,degination,salary):\n",
    "        self.fname= fname\n",
    "        self.lname= lname\n",
    "        self.degination= degination\n",
    "        self.salary= salary\n",
    "        \n",
    "        \n",
    "employee1 = Infosys(\"Suraj\",\"Chahande\",\"Front End\",30000)\n",
    "\n",
    "print(employee1)\n",
    "\n",
    "print(employee1.fname\n",
    "     \\\\)\n",
    "print(employee1.lname)\n",
    "\n",
    "print(employee1.degination\n",
    "     )\n",
    "print(employee1.salary)\n",
    "\n",
    "        "
   ]
  },
  {
   "cell_type": "code",
   "execution_count": 25,
   "metadata": {},
   "outputs": [],
   "source": [
    "# Difference between Normal Function and Class Function\n",
    "\n",
    "class Infosys:\n",
    "    \n",
    "    increment = 1.5\n",
    "    def __init__(self,fname,lname,degination,salary):\n",
    "        self.fname= fname\n",
    "        self.lname= lname\n",
    "        self.degination= degination\n",
    "        self.salary= salary\n",
    "        \n",
    "        \n",
    "    def increase(self):\n",
    "        pass\n",
    "        \n",
    "        \n",
    "employee1 = Infosys(\"Suraj\",\"Chahande\",\"Front End\",30000)\n",
    "\n",
    "employee1.increase()\n"
   ]
  },
  {
   "cell_type": "code",
   "execution_count": 26,
   "metadata": {},
   "outputs": [
    {
     "ename": "NameError",
     "evalue": "name 'increment' is not defined",
     "output_type": "error",
     "traceback": [
      "\u001b[1;31m---------------------------------------------------------------------------\u001b[0m",
      "\u001b[1;31mNameError\u001b[0m                                 Traceback (most recent call last)",
      "\u001b[1;32m<ipython-input-26-e45474426159>\u001b[0m in \u001b[0;36m<module>\u001b[1;34m\u001b[0m\n\u001b[0;32m     15\u001b[0m \u001b[0memployee1\u001b[0m \u001b[1;33m=\u001b[0m \u001b[0mInfosys\u001b[0m\u001b[1;33m(\u001b[0m\u001b[1;34m\"Suraj\"\u001b[0m\u001b[1;33m,\u001b[0m\u001b[1;34m\"Chahande\"\u001b[0m\u001b[1;33m,\u001b[0m\u001b[1;34m\"Front End\"\u001b[0m\u001b[1;33m,\u001b[0m\u001b[1;36m30000\u001b[0m\u001b[1;33m)\u001b[0m\u001b[1;33m\u001b[0m\u001b[1;33m\u001b[0m\u001b[0m\n\u001b[0;32m     16\u001b[0m \u001b[1;33m\u001b[0m\u001b[0m\n\u001b[1;32m---> 17\u001b[1;33m \u001b[0memployee1\u001b[0m\u001b[1;33m.\u001b[0m\u001b[0mincrease\u001b[0m\u001b[1;33m(\u001b[0m\u001b[1;33m)\u001b[0m\u001b[1;33m\u001b[0m\u001b[1;33m\u001b[0m\u001b[0m\n\u001b[0m",
      "\u001b[1;32m<ipython-input-26-e45474426159>\u001b[0m in \u001b[0;36mincrease\u001b[1;34m(self)\u001b[0m\n\u001b[0;32m     10\u001b[0m \u001b[1;33m\u001b[0m\u001b[0m\n\u001b[0;32m     11\u001b[0m     \u001b[1;32mdef\u001b[0m \u001b[0mincrease\u001b[0m\u001b[1;33m(\u001b[0m\u001b[0mself\u001b[0m\u001b[1;33m)\u001b[0m\u001b[1;33m:\u001b[0m\u001b[1;33m\u001b[0m\u001b[1;33m\u001b[0m\u001b[0m\n\u001b[1;32m---> 12\u001b[1;33m         \u001b[0mself\u001b[0m\u001b[1;33m.\u001b[0m\u001b[0msalary\u001b[0m \u001b[1;33m=\u001b[0m \u001b[0mself\u001b[0m\u001b[1;33m.\u001b[0m\u001b[0msalary\u001b[0m \u001b[1;33m*\u001b[0m \u001b[0mincrement\u001b[0m\u001b[1;33m\u001b[0m\u001b[1;33m\u001b[0m\u001b[0m\n\u001b[0m\u001b[0;32m     13\u001b[0m \u001b[1;33m\u001b[0m\u001b[0m\n\u001b[0;32m     14\u001b[0m \u001b[1;33m\u001b[0m\u001b[0m\n",
      "\u001b[1;31mNameError\u001b[0m: name 'increment' is not defined"
     ]
    }
   ],
   "source": [
    "# Global concept\n",
    "\n",
    "class Infosys:\n",
    "    \n",
    "    increment = 1.5\n",
    "    def __init__(self,fname,lname,degination,salary):\n",
    "        self.fname= fname\n",
    "        self.lname= lname\n",
    "        self.degination= degination\n",
    "        self.salary= salary\n",
    "        \n",
    "        \n",
    "    def increase(self):\n",
    "        self.salary = self.salary * increment\n",
    "        \n",
    "        \n",
    "employee1 = Infosys(\"Suraj\",\"Chahande\",\"Front End\",30000)\n",
    "\n",
    "employee1.increase()"
   ]
  },
  {
   "cell_type": "code",
   "execution_count": 29,
   "metadata": {},
   "outputs": [
    {
     "name": "stdout",
     "output_type": "stream",
     "text": [
      "30000\n",
      "45000.0\n"
     ]
    }
   ],
   "source": [
    "# Global value can not apply in a class\n",
    "\n",
    "class Infosys:\n",
    "    \n",
    "    increment = 1.5\n",
    "    def __init__(self,fname,lname,degination,salary):\n",
    "        self.fname= fname\n",
    "        self.lname= lname\n",
    "        self.degination= degination\n",
    "        self.salary= salary\n",
    "        \n",
    "        \n",
    "    def increase(self):\n",
    "        self.salary = self.salary * self.increment\n",
    "        \n",
    "        \n",
    "employee1 = Infosys(\"Suraj\",\"Chahande\",\"Front End\",30000)\n",
    "\n",
    "print(employee1.salary)\n",
    "\n",
    "employee1.increase()\n",
    "\n",
    "print(employee1.salary)\n"
   ]
  },
  {
   "cell_type": "code",
   "execution_count": 32,
   "metadata": {},
   "outputs": [
    {
     "name": "stdout",
     "output_type": "stream",
     "text": [
      "30000\n",
      "45000.0\n"
     ]
    }
   ],
   "source": [
    "# Difference between class variable and function variable\n",
    "\n",
    "class Infosys:\n",
    "    \n",
    "    increment = 1.5\n",
    "    def __init__(self,fname,lname,degination,salary):\n",
    "        self.fname= fname\n",
    "        self.lname= lname\n",
    "        self.degination= degination\n",
    "        self.salary= salary\n",
    "        self.increment = 2.5\n",
    "        \n",
    "        \n",
    "    def increase(self):\n",
    "        self.salary = self.salary * Infosys.increment\n",
    "        \n",
    "        \n",
    "employee1 = Infosys(\"Suraj\",\"Chahande\",\"Front End\",30000)\n",
    "\n",
    "print(employee1.salary)\n",
    "\n",
    "employee1.increase()\n",
    "\n",
    "print(employee1.salary)"
   ]
  },
  {
   "cell_type": "code",
   "execution_count": null,
   "metadata": {},
   "outputs": [],
   "source": []
  }
 ],
 "metadata": {
  "kernelspec": {
   "display_name": "Python 3",
   "language": "python",
   "name": "python3"
  },
  "language_info": {
   "codemirror_mode": {
    "name": "ipython",
    "version": 3
   },
   "file_extension": ".py",
   "mimetype": "text/x-python",
   "name": "python",
   "nbconvert_exporter": "python",
   "pygments_lexer": "ipython3",
   "version": "3.8.5"
  }
 },
 "nbformat": 4,
 "nbformat_minor": 4
}
